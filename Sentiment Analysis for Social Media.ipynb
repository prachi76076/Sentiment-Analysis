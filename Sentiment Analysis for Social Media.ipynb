{
 "cells": [
  {
   "cell_type": "code",
   "execution_count": 1,
   "id": "a56c1ff0-e881-4d99-bbbd-28066e4a815a",
   "metadata": {},
   "outputs": [],
   "source": [
    "import pandas as pd\n",
    "import numpy as np\n",
    "import nltk\n",
    "from nltk.sentiment.vader import SentimentIntensityAnalyzer\n",
    "from textblob import TextBlob\n",
    "import seaborn as sns\n",
    "import matplotlib.pyplot as plt"
   ]
  },
  {
   "cell_type": "code",
   "execution_count": 2,
   "id": "dda84a42-25bd-4bad-badb-76b23d9a4096",
   "metadata": {},
   "outputs": [
    {
     "name": "stderr",
     "output_type": "stream",
     "text": [
      "[nltk_data] Downloading package vader_lexicon to C:\\Users\\PRACHI\n",
      "[nltk_data]     TIWARI\\AppData\\Roaming\\nltk_data...\n",
      "[nltk_data]   Package vader_lexicon is already up-to-date!\n",
      "[nltk_data] Downloading package stopwords to C:\\Users\\PRACHI\n",
      "[nltk_data]     TIWARI\\AppData\\Roaming\\nltk_data...\n",
      "[nltk_data]   Package stopwords is already up-to-date!\n"
     ]
    },
    {
     "data": {
      "text/plain": [
       "True"
      ]
     },
     "execution_count": 2,
     "metadata": {},
     "output_type": "execute_result"
    }
   ],
   "source": [
    "nltk.download('vader_lexicon')\n",
    "nltk.download('stopwords')"
   ]
  },
  {
   "cell_type": "code",
   "execution_count": 3,
   "id": "e20231ea-c894-4d29-a32d-92aa331db193",
   "metadata": {},
   "outputs": [
    {
     "data": {
      "text/html": [
       "<div>\n",
       "<style scoped>\n",
       "    .dataframe tbody tr th:only-of-type {\n",
       "        vertical-align: middle;\n",
       "    }\n",
       "\n",
       "    .dataframe tbody tr th {\n",
       "        vertical-align: top;\n",
       "    }\n",
       "\n",
       "    .dataframe thead th {\n",
       "        text-align: right;\n",
       "    }\n",
       "</style>\n",
       "<table border=\"1\" class=\"dataframe\">\n",
       "  <thead>\n",
       "    <tr style=\"text-align: right;\">\n",
       "      <th></th>\n",
       "      <th>Text</th>\n",
       "      <th>Timestamp</th>\n",
       "      <th>Likes</th>\n",
       "      <th>Location</th>\n",
       "      <th>Shares</th>\n",
       "    </tr>\n",
       "  </thead>\n",
       "  <tbody>\n",
       "    <tr>\n",
       "      <th>0</th>\n",
       "      <td>\"This product is amazing!\"</td>\n",
       "      <td>12/1/2024 12:30</td>\n",
       "      <td>55</td>\n",
       "      <td>New York</td>\n",
       "      <td>25.0</td>\n",
       "    </tr>\n",
       "    <tr>\n",
       "      <th>1</th>\n",
       "      <td>\"Not happy with the service\"</td>\n",
       "      <td>11/1/2024 12:31</td>\n",
       "      <td>48</td>\n",
       "      <td>London</td>\n",
       "      <td>49.0</td>\n",
       "    </tr>\n",
       "    <tr>\n",
       "      <th>2</th>\n",
       "      <td>\"Good Quality\"</td>\n",
       "      <td>10/1/2024 12:32</td>\n",
       "      <td>46</td>\n",
       "      <td>America</td>\n",
       "      <td>28.0</td>\n",
       "    </tr>\n",
       "    <tr>\n",
       "      <th>3</th>\n",
       "      <td>\"Quality is amazing\"</td>\n",
       "      <td>9/1/2024 12:33</td>\n",
       "      <td>51</td>\n",
       "      <td>Mumbai</td>\n",
       "      <td>88.0</td>\n",
       "    </tr>\n",
       "    <tr>\n",
       "      <th>4</th>\n",
       "      <td>\"Superb\"</td>\n",
       "      <td>8/1/2024 1:25</td>\n",
       "      <td>24</td>\n",
       "      <td>New York</td>\n",
       "      <td>27.0</td>\n",
       "    </tr>\n",
       "  </tbody>\n",
       "</table>\n",
       "</div>"
      ],
      "text/plain": [
       "                           Text        Timestamp Likes   Location  Shares\n",
       "0    \"This product is amazing!\"  12/1/2024 12:30    55  New York     25.0\n",
       "1  \"Not happy with the service\"  11/1/2024 12:31    48     London    49.0\n",
       "2                \"Good Quality\"  10/1/2024 12:32    46    America    28.0\n",
       "3          \"Quality is amazing\"   9/1/2024 12:33    51     Mumbai    88.0\n",
       "4                      \"Superb\"    8/1/2024 1:25    24  New York     27.0"
      ]
     },
     "execution_count": 3,
     "metadata": {},
     "output_type": "execute_result"
    }
   ],
   "source": [
    "df = pd.read_csv(r\"C:\\Users\\PRACHI TIWARI\\OneDrive\\Documents\\Social_Media_Data.csv\")\n",
    "df.head()"
   ]
  },
  {
   "cell_type": "code",
   "execution_count": 4,
   "id": "6dd5c151-bf29-498a-bea4-d9fcaff9b26f",
   "metadata": {},
   "outputs": [],
   "source": [
    "import re\n",
    "from nltk.corpus import stopwords\n",
    "\n",
    "stop_words = set(stopwords.words('english'))"
   ]
  },
  {
   "cell_type": "code",
   "execution_count": 5,
   "id": "0076ab2d-4c4f-48a5-8b77-fd362849ecf3",
   "metadata": {},
   "outputs": [],
   "source": [
    "def clean_Text(Text):\n",
    "    \n",
    "    Text = re.sub(r'http\\S+|www\\S+|https\\S+', '', Text, flags=re.MULTILINE)\n",
    "    Text = re.sub(r'\\@\\w+|\\#','', Text)\n",
    "    Text = re.sub(r'[^\\w\\s]', '', Text)\n",
    "    \n",
    "    Text = ' '.join([word for word in Text.split() if word.lower() not in stop_words])\n",
    "    return Text"
   ]
  },
  {
   "cell_type": "code",
   "execution_count": 6,
   "id": "6e49c3c7-6a5c-4e85-8cb5-54f75dcc27e7",
   "metadata": {},
   "outputs": [],
   "source": [
    "df['Text'] = df['Text'].astype(str)\n",
    "df['cleaned_Text'] = df['Text'].apply(clean_Text)"
   ]
  },
  {
   "cell_type": "code",
   "execution_count": 7,
   "id": "9e810b41-43c6-410d-9cb3-0319cf1892de",
   "metadata": {},
   "outputs": [],
   "source": [
    "sia = SentimentIntensityAnalyzer()\n",
    "def analyze_sentiment_vader(Text):\n",
    "    score = sia.polarity_scores(Text)\n",
    "    if score['compound'] > 0:\n",
    "        return 'Positive'\n",
    "    elif score['compound'] < 0:\n",
    "        return 'Negative'\n",
    "    else:\n",
    "        return 'Neutral'"
   ]
  },
  {
   "cell_type": "code",
   "execution_count": 8,
   "id": "21f51466-c7b5-4dd9-8a77-b8cc78c36e4a",
   "metadata": {},
   "outputs": [],
   "source": [
    "df['vader_sentiment'] = df['cleaned_Text'].apply(analyze_sentiment_vader)"
   ]
  },
  {
   "cell_type": "code",
   "execution_count": 9,
   "id": "5561e20f-a66e-4587-89c4-37f52893b295",
   "metadata": {},
   "outputs": [],
   "source": [
    "def analyze_sentiment_textblob(Text):\n",
    "    polarity = TextBlob(Text).sentiment.polarity\n",
    "    if polarity > 0:\n",
    "        return 'Positive'\n",
    "    elif polarity < 0:\n",
    "        return 'Negative'\n",
    "    else:\n",
    "        return 'Neutral'"
   ]
  },
  {
   "cell_type": "code",
   "execution_count": 10,
   "id": "76e03710-27a9-4be2-94fc-a70c8a4001b2",
   "metadata": {},
   "outputs": [],
   "source": [
    "df['textblob_sentiment'] = df['cleaned_Text'].apply(analyze_sentiment_textblob)"
   ]
  },
  {
   "cell_type": "code",
   "execution_count": 11,
   "id": "2b259248-c9fa-46f8-95a8-85d34521c518",
   "metadata": {},
   "outputs": [],
   "source": [
    "df['final_sentiment'] = np.where(df['vader_sentiment'] == df['textblob_sentiment'],\n",
    "                                 df['vader_sentiment'], 'Mixed')"
   ]
  },
  {
   "cell_type": "code",
   "execution_count": 12,
   "id": "76d269de-94a7-4b27-ae38-a5a3fd7f3a0f",
   "metadata": {},
   "outputs": [],
   "source": [
    "sentiment_counts = df['final_sentiment'].value_counts()"
   ]
  },
  {
   "cell_type": "code",
   "execution_count": 13,
   "id": "ca9b8bc6-f5f6-40fb-8f7d-aa22c9bdc47e",
   "metadata": {},
   "outputs": [
    {
     "name": "stderr",
     "output_type": "stream",
     "text": [
      "C:\\Users\\PRACHI TIWARI\\AppData\\Local\\Temp\\ipykernel_18720\\1409532209.py:2: FutureWarning: \n",
      "\n",
      "Passing `palette` without assigning `hue` is deprecated and will be removed in v0.14.0. Assign the `x` variable to `hue` and set `legend=False` for the same effect.\n",
      "\n",
      "  sns.barplot(x=sentiment_counts.index, y=sentiment_counts.values, palette='viridis')\n"
     ]
    },
    {
     "data": {
      "image/png": "[encoded data removed]",
      "text/plain": [
       "<Figure size 1000x600 with 1 Axes>"
      ]
     },
     "metadata": {},
     "output_type": "display_data"
    }
   ],
   "source": [
    "plt.figure(figsize=(10, 6))\n",
    "sns.barplot(x=sentiment_counts.index, y=sentiment_counts.values, palette='viridis')\n",
    "plt.title('Sentiment Analysis Results', fontsize=16)\n",
    "plt.xlabel('Sentiment', fontsize=14)\n",
    "plt.ylabel('Count', fontsize=14)\n",
    "plt.show()"
   ]
  },
  {
   "cell_type": "code",
   "execution_count": 14,
   "id": "00392300-e7e6-4849-8bd6-05556cf89695",
   "metadata": {},
   "outputs": [
    {
     "data": {
      "image/png": "[encoded data removed]",
      "text/plain": [
       "<Figure size 1400x800 with 1 Axes>"
      ]
     },
     "metadata": {},
     "output_type": "display_data"
    }
   ],
   "source": [
    "if 'Timestamp' in df.columns:\n",
    "    df['Timestamp'] = pd.to_datetime(df['Timestamp'])\n",
    "    sentiment_over_time = df.groupby([df['Timestamp'].dt.date, 'final_sentiment']).size().unstack()\n",
    "    \n",
    "    sentiment_over_time.plot(kind='line', figsize=(14, 8), marker='o')\n",
    "    plt.title('Sentiment Trends Over Time', fontsize=16)\n",
    "    plt.xlabel('Date', fontsize=14)\n",
    "    plt.ylabel('Count', fontsize=14)\n",
    "    plt.legend(title='Sentiment', fontsize=12)\n",
    "    plt.show()"
   ]
  }
 ],
 "metadata": {
  "kernelspec": {
   "display_name": "Python 3 (ipykernel)",
   "language": "python",
   "name": "python3"
  },
  "language_info": {
   "codemirror_mode": {
    "name": "ipython",
    "version": 3
   },
   "file_extension": ".py",
   "mimetype": "text/x-python",
   "name": "python",
   "nbconvert_exporter": "python",
   "pygments_lexer": "ipython3",
   "version": "3.12.6"
  }
 },
 "nbformat": 4,
 "nbformat_minor": 5
}
